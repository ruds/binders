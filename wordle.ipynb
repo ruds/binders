{
 "cells": [
  {
   "cell_type": "code",
   "execution_count": 1,
   "metadata": {
    "collapsed": false
   },
   "outputs": [
   ],
   "source": [
    "run_tests = True\n",
    "\n",
    "from collections import defaultdict\n",
    "import numpy as np"
   ]
  },
  {
   "cell_type": "code",
   "execution_count": 2,
   "metadata": {
    "collapsed": false
   },
   "outputs": [
    {
     "name": "stdout",
     "output_type": "stream",
     "text": [
      "2470 ['aback', 'abase', 'abash', 'abate', 'abbas', 'abbey', 'abbot', 'abhor', 'abide', 'abode', 'abort', 'about', 'above', 'abuse', 'abyss', 'acorn', 'acrid', 'actor', 'acute', 'adage']\n"
     ]
    }
   ],
   "source": [
    "# Read word list\n",
    "import re\n",
    "FIVE_LETTER_WORD = re.compile('[a-z]{5}\\n')\n",
    "with open('words.txt') as wf:\n",
    "    allwords = [w.strip() for w in wf.readlines() if FIVE_LETTER_WORD.fullmatch(w)]\n",
    "\n",
    "print(len(allwords), allwords[:20])"
   ]
  },
  {
   "cell_type": "code",
   "execution_count": 3,
   "metadata": {
    "collapsed": false
   },
   "outputs": [
    {
     "name": "stdout",
     "output_type": "stream",
     "text": [
      "OK\n"
     ]
    }
   ],
   "source": [
    "def score_guess(word, guess):\n",
    "    word = [c for c in word]\n",
    "    score = [' '] * 5\n",
    "    for i in range(5):\n",
    "        if word[i] == guess[i]:\n",
    "            score[i] = 'G'\n",
    "            word[i] = ' '\n",
    "    for i in range(5):\n",
    "        if score[i] != ' ': continue\n",
    "        try:\n",
    "            word[word.index(guess[i])] = ' '\n",
    "            score[i] = 'O'\n",
    "        except ValueError:\n",
    "            score[i] = 'B'\n",
    "    return ''.join(score)\n",
    "\n",
    "if run_tests:\n",
    "    def test(word, guess, score):\n",
    "        if score_guess(word, guess) != score:\n",
    "            raise AssertionError(f'Expected {guess} to match {word} with {score}')\n",
    "    test(\"eerie\", \"geese\", \"BGOBG\")\n",
    "    test(\"eerie\", \"levee\", \"BGBOG\")\n",
    "    test(\"eerie\", \"preen\", \"BOOOB\")\n",
    "    test(\"eerie\", \"yield\", \"BOOBB\")\n",
    "    test(\"eerie\", \"salsa\", \"BBBBB\")\n",
    "    test(\"salsa\", \"slams\", \"GOOBO\")\n",
    "    test(\"salsa\", \"salts\", \"GGGBO\")\n",
    "    print(\"OK\")"
   ]
  },
  {
   "cell_type": "code",
   "execution_count": 4,
   "metadata": {
    "collapsed": false
   },
   "outputs": [
   ],
   "source": [
    "def cache_scores(words):\n",
    "    l = len(words)\n",
    "    return [score_guess(words[i], allwords[j]) for i in range(len(words)) for j in range(len(allwords))]\n",
    "\n",
    "allscores = cache_scores(allwords)"
   ]
  },
  {
   "cell_type": "code",
   "execution_count": 12,
   "metadata": {
    "collapsed": false
   },
   "outputs": [
   ],
   "source": [
    "def get_score(scores, w, g):\n",
    "    return scores[w * len(allwords) + g]"
   ]
  },
  {
   "cell_type": "code",
   "execution_count": 5,
   "metadata": {
    "collapsed": false
   },
   "outputs": [
   ],
   "source": [
    "def score_outcomes(outcomes):\n",
    "    a = np.array(outcomes)\n",
    "    return (a.mean(), a.std(), a.max())\n"
   ]
  },
  {
   "cell_type": "code",
   "execution_count": 13,
   "metadata": {
    "collapsed": false
   },
   "outputs": [
   ],
   "source": [
    "def compute_guess_outcomes(words, scores):\n",
    "    \"\"\"Given a word list, compute the outcome of every guess against every word.\n",
    "\n",
    "    Returns a dictionary mapping a guess to a list of outcomes, where each outcome\n",
    "    is a count of words consistent with the guess's score against a particular target.\n",
    "    \"\"\"\n",
    "    outcomes = {}\n",
    "    for guess in range(len(allwords)):\n",
    "        o = []\n",
    "        cache = {}\n",
    "        for word in range(len(words)):\n",
    "            score = get_score(scores, word, guess)\n",
    "            if score not in cache:\n",
    "                cache[score] = sum(get_score(scores, c, guess) == score for c in range(len(words)))\n",
    "            o.append(cache[score])\n",
    "        outcomes[allwords[guess]] = score_outcomes(o)\n",
    "    return outcomes"
   ]
  },
  {
   "cell_type": "code",
   "execution_count": 14,
   "metadata": {
    "collapsed": false
   },
   "outputs": [
   ],
   "source": [
    "try:\n",
    "    del alloutcomes\n",
    "except NameError:\n",
    "    pass\n",
    "alloutcomes = compute_guess_outcomes(allwords, allscores)"
   ]
  },
  {
   "cell_type": "code",
   "execution_count": 15,
   "metadata": {
    "collapsed": false
   },
   "outputs": [
    {
     "name": "stdout",
     "output_type": "stream",
     "text": [
      " WORD  AVG RMNG  STDDEV  MAX RMNG\n",
      "------ -------- -------- --------\n",
      "raise   66.7644  50.8820    177\n",
      "orate   68.9571  57.4488    199\n",
      "arise   69.9304  57.9477    184\n",
      "arose   70.5522  57.9881    193\n",
      "irate   71.0794  61.2721    213\n",
      "slate   73.4721  70.8099    238\n",
      "stare   73.6607  69.8385    241\n",
      "alert   74.2389  62.6779    217\n",
      "snare   75.1150  68.9029    236\n",
      "carte   76.3101  72.5381    254\n",
      "crate   76.7417  74.5508    254\n",
      "trace   77.6696  74.9467    254\n",
      "stale   78.3887  70.7871    238\n",
      "later   78.6113  60.9364    217\n",
      "least   78.7360  73.8331    238\n",
      "alter   79.7555  62.4812    217\n",
      "caret   80.3862  77.0336    254\n",
      "learn   80.4057  66.2173    233\n",
      "alone   82.1263  68.4917    211\n",
      "scare   82.2316  72.7268    238\n",
      "aisle   82.2453  69.2627    215\n",
      "atone   83.1482  67.0396    218\n",
      "saute   83.2211  73.6048    228\n",
      "carne   83.5960  81.4607    277\n",
      "caste   84.4640  74.6577    250\n",
      "store   84.9587  79.4919    274\n",
      "crane   85.0939  83.7046    277\n",
      "trail   85.6138  74.2906    254\n",
      "share   86.5717  78.9706    243\n",
      "renal   86.9077  67.6260    233\n",
      "aster   87.1498  69.7457    241\n",
      "roast   87.3247  84.0987    276\n",
      "cater   88.0194  76.0526    254\n",
      "snore   88.1393  77.1054    264\n",
      "anise   88.5004  73.5113    214\n",
      "scale   88.6543  81.4127    265\n",
      "stole   89.0688  74.9788    252\n",
      "solar   89.1789  74.6469    248\n",
      "trial   89.9223  76.8143    254\n",
      "heart   90.0826  84.3896    266\n",
      "trade   90.2186  89.6291    297\n",
      "canoe   91.1012  74.8272    232\n",
      "parse   91.7036  86.6634    287\n",
      "steal   91.9506  80.0044    238\n",
      "shale   92.1174  83.5925    258\n",
      "lathe   93.1393  76.2834    262\n",
      "plate   93.2364  84.2806    276\n",
      "grate   93.3045  90.5541    299\n",
      "sauce   93.8259  83.4729    242\n",
      "siren   93.8421  85.8711    274\n"
     ]
    }
   ],
   "source": [
    "s = sorted(alloutcomes.items(), key=lambda x: x[1][0])\n",
    "print(\" WORD  AVG RMNG  STDDEV  MAX RMNG\")\n",
    "print(\"------ -------- -------- --------\")\n",
    "for w, (m, sd, mx) in s[:50]:\n",
    "    print(f\"{w}   {m:7.4f}  {sd:7.4f}   {mx:4}\")"
   ]
  },
  {
   "cell_type": "code",
   "execution_count": 18,
   "metadata": {
    "collapsed": false
   },
   "outputs": [
   ],
   "source": [
    "def apply_guess(word, words, scores, guess):\n",
    "    g = allwords.index(guess)\n",
    "    w = words.index(word)\n",
    "    score = get_score(scores, w, g)\n",
    "    newscores = []\n",
    "    newwords = []\n",
    "    for idx, cand in enumerate(words):\n",
    "        if get_score(scores, idx, g) == score:\n",
    "            newwords.append(cand)\n",
    "            newscores.extend(scores[idx * len(allwords):(idx + 1) * len(allwords)])\n",
    "    return newwords, newscores\n"
   ]
  },
  {
   "cell_type": "code",
   "execution_count": 22,
   "metadata": {
    "collapsed": false
   },
   "outputs": [
    {
     "name": "stdout",
     "output_type": "stream",
     "text": [
      "['raise', 'count', 'aback', 'slump']\n"
     ]
    },
    {
     "name": "stdout",
     "output_type": "stream",
     "text": [
      "['raise', 'mulch', 'fiend', 'fuzzy']\n"
     ]
    },
    {
     "name": "stdout",
     "output_type": "stream",
     "text": [
      "['raise', 'gourd', 'gorge']\n"
     ]
    },
    {
     "name": "stdout",
     "output_type": "stream",
     "text": [
      "['raise', 'lofty', 'debug', 'happy', 'witch']\n"
     ]
    }
   ],
   "source": [
    "def solve_puzzle(word):\n",
    "    words = allwords\n",
    "    scores = allscores\n",
    "    outcomes = alloutcomes\n",
    "    while True:\n",
    "        if word not in words:\n",
    "            raise AssertionException(f\"Can't guess {word}; not in list of {len(words)} words\")\n",
    "        if len(words) == 1:\n",
    "            guess = words[0]\n",
    "        else:\n",
    "            best = min(outcomes.items(), key=lambda x: x[1][0])\n",
    "            guess = best[0]\n",
    "        yield guess\n",
    "        if guess == word:\n",
    "            return\n",
    "        words, scores = apply_guess(word, words, scores, guess)\n",
    "        outcomes = compute_guess_outcomes(words, scores)\n",
    "\n",
    "print(list(solve_puzzle('slump')))\n",
    "print(list(solve_puzzle('fuzzy')))\n",
    "print(list(solve_puzzle('gorge')))\n",
    "print(list(solve_puzzle('witch')))"
   ]
  },
  {
   "cell_type": "code",
   "execution_count": 0,
   "metadata": {
    "collapsed": false
   },
   "outputs": [
   ],
   "source": [
    "lengths = {word: len(list(solve_puzzle(word))) for word in allwords}\n",
    "\n",
    "maxlen = max(lengths.items(), key=lambda x:x[1])[1]\n",
    "print(maxlen)\n",
    "\n",
    "print([w for w in lengths if lengths[w] > 6])"
   ]
  },
  {
   "cell_type": "code",
   "execution_count": 0,
   "metadata": {
    "collapsed": false
   },
   "outputs": [
   ],
   "source": [
   ]
  },
  {
   "cell_type": "code",
   "execution_count": 0,
   "metadata": {
    "collapsed": false
   },
   "outputs": [
   ],
   "source": [
   ]
  }
 ],
 "metadata": {
  "kernelspec": {
   "display_name": "Python 3 (system-wide)",
   "language": "python",
   "metadata": {
    "cocalc": {
     "description": "Python 3 programming language",
     "priority": 100,
     "url": "https://www.python.org/"
    }
   },
   "name": "python3",
   "resource_dir": "/ext/jupyter/kernels/python3"
  },
  "language_info": {
   "codemirror_mode": {
    "name": "ipython",
    "version": 3
   },
   "file_extension": ".py",
   "mimetype": "text/x-python",
   "name": "python",
   "nbconvert_exporter": "python",
   "pygments_lexer": "ipython3",
   "version": "3.8.10"
  }
 },
 "nbformat": 4,
 "nbformat_minor": 4
}